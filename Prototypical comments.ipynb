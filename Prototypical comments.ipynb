{
 "cells": [
  {
   "cell_type": "code",
   "execution_count": 1,
   "metadata": {
    "collapsed": true
   },
   "outputs": [],
   "source": [
    "from gensim.models import word2vec\n",
    "\n",
    "m = \"300features_10minwords_10context\"\n",
    "current_model = word2vec.Word2Vec.load('new_models/' + m);"
   ]
  },
  {
   "cell_type": "code",
   "execution_count": 13,
   "metadata": {
    "collapsed": true
   },
   "outputs": [],
   "source": [
    "labels = ['anthropology', 'homebrew', 'bicycling', 'books','computer',\n",
    " 'explain', 'food', 'history', 'mathematics', 'movies',\n",
    " 'philosophy', 'science']"
   ]
  },
  {
   "cell_type": "code",
   "execution_count": 17,
   "metadata": {
    "collapsed": false
   },
   "outputs": [
    {
     "name": "stdout",
     "output_type": "stream",
     "text": [
      "Label: anthropology\n",
      "[(u'sociology', 0.7577950358390808), (u'disciplines', 0.7049033641815186), (u'linguistics', 0.6583549976348877), (u'anthro', 0.6546084880828857), (u'geography', 0.637413501739502), (u'humanities', 0.6348583698272705), (u'undergrad', 0.6342948079109192), (u'psych', 0.6307331323623657), (u'academic', 0.6164349913597107), (u'ecology', 0.6082063913345337)]\n",
      "Label: homebrew\n",
      "[(u'northernbrewer', 0.543962836265564), (u'canning', 0.5433939695358276), (u'brew', 0.536291241645813), (u'brewersfriend', 0.5227457284927368), (u'lhbs', 0.520180344581604), (u'brewmaster', 0.4934118092060089), (u'oldsock', 0.4908571243286133), (u'faygo', 0.4851374626159668), (u'kegconnection', 0.4807981252670288), (u'sufferingcubsfan', 0.47779589891433716)]\n",
      "Label: bicycling\n",
      "[(u'tweetposter', 0.745385468006134), (u'bicyclingcirclejerk', 0.7387921810150146), (u'qk', 0.7268321514129639), (u'zj', 0.7138404846191406), (u'vj', 0.7005923986434937), (u'oan', 0.6945195198059082), (u'summarizes', 0.6901614665985107), (u'kk', 0.6890245676040649), (u'yb', 0.6882652044296265), (u'wz', 0.6858404874801636)]\n",
      "Label: books\n",
      "[(u'book', 0.6343221068382263), (u'r', 0.5633121728897095), (u'comicbookmovies', 0.5601615905761719), (u'movies', 0.5386021733283997), (u'read', 0.522951602935791), (u'amafullschedule', 0.5202847719192505), (u'since', 0.5145385265350342), (u'novels', 0.5127122402191162), (u'truefilm', 0.5067445039749146), (u'anthology', 0.5048080682754517)]\n",
      "Label: computer\n",
      "[(u'gpus', 0.6102637052536011), (u'computing', 0.609281599521637), (u'programmer', 0.6028910279273987), (u'computers', 0.5976203083992004), (u'processors', 0.5969599485397339), (u'programmers', 0.5882270336151123), (u'computation', 0.5701116323471069), (u'interpreter', 0.5670830011367798), (u'gpu', 0.565044641494751), (u'bios', 0.563148021697998)]\n",
      "Label: explain\n",
      "[(u'plothole', 0.5524983406066895), (u'explained', 0.5227158665657043), (u'that', 0.5156382918357849), (u'convoluted', 0.510383129119873), (u'explaining', 0.5056511759757996), (u'foreshadowing', 0.5035074949264526), (u'appreciate', 0.5009584426879883), (u'pointless', 0.5003352761268616), (u'fleshed', 0.5003334283828735), (u'meaningful', 0.4992181062698364)]\n",
      "Label: food\n",
      "[(u'snacks', 0.5099458694458008), (u'foods', 0.5045439004898071), (u'nutritious', 0.48710566759109497), (u'meals', 0.4849551022052765), (u'scraps', 0.47749289870262146), (u'eat', 0.47707265615463257), (u'meal', 0.4764246940612793), (u'scarce', 0.4724275767803192), (u'bamboo', 0.4709407687187195), (u'hungry', 0.46741899847984314)]\n",
      "Label: history\n",
      "[(u'thrillers', 0.5149539709091187), (u'fascinating', 0.50445556640625), (u'dystopian', 0.501777172088623), (u'lore', 0.4992004632949829), (u'parallels', 0.49495673179626465), (u'spawned', 0.49317604303359985), (u'mythos', 0.48938778042793274), (u'masterful', 0.48628103733062744), (u'incarnation', 0.48485732078552246), (u'historical', 0.4822657108306885)]\n",
      "Label: mathematics\n",
      "[(u'proofs', 0.7183476090431213), (u'mathematical', 0.6981117725372314), (u'math', 0.6802877187728882), (u'maths', 0.6618346571922302), (u'godel', 0.6530870199203491), (u'calculus', 0.6464293003082275), (u'automata', 0.637760579586029), (u'physics', 0.6259437203407288), (u'axioms', 0.6245019435882568), (u'equations', 0.6236181259155273)]\n",
      "Label: movies\n",
      "[(u'films', 0.6884034872055054), (u'flicks', 0.6682803630828857), (u'blockbusters', 0.6573898196220398), (u'movie', 0.6423680782318115), (u'masterpieces', 0.6270779371261597), (u'overrated', 0.6229957938194275), (u'remakes', 0.6123044490814209), (u'masterpiece', 0.6114934682846069), (u'campy', 0.6071408987045288), (u'trilogies', 0.6055842638015747)]\n",
      "Label: philosophy\n",
      "[(u'metaphysics', 0.7108139991760254), (u'freud', 0.6633636951446533), (u'empiricism', 0.6597503423690796), (u'epistemology', 0.6302234530448914), (u'sociology', 0.6254299879074097), (u'linguistics', 0.6212547421455383), (u'epistemological', 0.6199455261230469), (u'psychology', 0.612116813659668), (u'philosophers', 0.5928220152854919), (u'principles', 0.5895783305168152)]\n",
      "Label: science\n",
      "[(u'automata', 0.4920042157173157), (u'philosophy', 0.48488089442253113), (u'literary', 0.4828050136566162), (u'principles', 0.48198914527893066), (u'epistemological', 0.47402888536453247), (u'krauss', 0.47049105167388916), (u'scientific', 0.4680091440677643), (u'mysteries', 0.4638720154762268), (u'introductory', 0.4634590148925781), (u'metaphysics', 0.4627963900566101)]\n"
     ]
    }
   ],
   "source": [
    "for label in labels:\n",
    "    print(\"Label: \" + label)\n",
    "    print(current_model.most_similar(label))"
   ]
  },
  {
   "cell_type": "code",
   "execution_count": 5,
   "metadata": {
    "collapsed": false
   },
   "outputs": [
    {
     "data": {
      "text/plain": [
       "[(u'hamlet', 0.4034157991409302),\n",
       " (u'lear', 0.3999606966972351),\n",
       " (u'kimba', 0.3926089406013489),\n",
       " (u'lion', 0.38434600830078125),\n",
       " (u'daughter', 0.36814963817596436),\n",
       " (u'affair', 0.3677052855491638),\n",
       " (u'mermaid', 0.36762744188308716),\n",
       " (u'simba', 0.3667428195476532),\n",
       " (u'sisters', 0.36641520261764526),\n",
       " (u'khaleesi', 0.35848933458328247)]"
      ]
     },
     "execution_count": 5,
     "metadata": {},
     "output_type": "execute_result"
    }
   ],
   "source": [
    "current_model.most_similar(positive=['woman', 'king'], negative=['man'])"
   ]
  },
  {
   "cell_type": "code",
   "execution_count": null,
   "metadata": {
    "collapsed": true
   },
   "outputs": [],
   "source": []
  }
 ],
 "metadata": {
  "kernelspec": {
   "display_name": "Python 2",
   "language": "python",
   "name": "python2"
  },
  "language_info": {
   "codemirror_mode": {
    "name": "ipython",
    "version": 2
   },
   "file_extension": ".py",
   "mimetype": "text/x-python",
   "name": "python",
   "nbconvert_exporter": "python",
   "pygments_lexer": "ipython2",
   "version": "2.7.10"
  }
 },
 "nbformat": 4,
 "nbformat_minor": 0
}
