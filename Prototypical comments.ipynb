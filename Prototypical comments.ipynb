{
 "cells": [
  {
   "cell_type": "code",
   "execution_count": 3,
   "metadata": {
    "collapsed": true
   },
   "outputs": [],
   "source": [
    "from gensim.models import word2vec\n",
    "\n",
    "m = \"300features_10minwords_10context\"\n",
    "current_model = word2vec.Word2Vec.load('new_models/' + m);"
   ]
  },
  {
   "cell_type": "code",
   "execution_count": 4,
   "metadata": {
    "collapsed": true
   },
   "outputs": [],
   "source": [
    "labels = ['anthropology', 'homebrew', 'bicycling', 'books','computer',\n",
    " 'explain', 'food', 'history', 'mathematics', 'movies',\n",
    " 'philosophy', 'science']"
   ]
  },
  {
   "cell_type": "code",
   "execution_count": 17,
   "metadata": {
    "collapsed": false
   },
   "outputs": [
    {
     "name": "stdout",
     "output_type": "stream",
     "text": [
      "Label: anthropology\n",
      "[(u'sociology', 0.7577950358390808),\n",
      " (u'disciplines', 0.7049033641815186),\n",
      " (u'linguistics', 0.6583549976348877),\n",
      " (u'anthro', 0.6546084880828857),\n",
      " (u'geography', 0.637413501739502)]\n",
      "Label: homebrew\n",
      "[(u'northernbrewer', 0.543962836265564),\n",
      " (u'canning', 0.5433939695358276),\n",
      " (u'brew', 0.536291241645813),\n",
      " (u'brewersfriend', 0.5227457284927368),\n",
      " (u'lhbs', 0.520180344581604)]\n",
      "Label: bicycling\n",
      "[(u'tweetposter', 0.745385468006134),\n",
      " (u'bicyclingcirclejerk', 0.7387921810150146),\n",
      " (u'qk', 0.7268321514129639),\n",
      " (u'zj', 0.7138404846191406),\n",
      " (u'vj', 0.7005923986434937)]\n",
      "Label: books\n",
      "[(u'book', 0.6343221068382263),\n",
      " (u'r', 0.5633121728897095),\n",
      " (u'comicbookmovies', 0.5601615905761719),\n",
      " (u'movies', 0.5386021733283997),\n",
      " (u'read', 0.522951602935791)]\n",
      "Label: computer\n",
      "[(u'gpus', 0.6102637052536011),\n",
      " (u'computing', 0.609281599521637),\n",
      " (u'programmer', 0.6028910279273987),\n",
      " (u'computers', 0.5976203083992004),\n",
      " (u'processors', 0.5969599485397339)]\n",
      "Label: explain\n",
      "[(u'plothole', 0.5524983406066895),\n",
      " (u'explained', 0.5227158665657043),\n",
      " (u'that', 0.5156382918357849),\n",
      " (u'convoluted', 0.510383129119873),\n",
      " (u'explaining', 0.5056511759757996)]\n",
      "Label: food\n",
      "[(u'snacks', 0.5099458694458008),\n",
      " (u'foods', 0.5045439004898071),\n",
      " (u'nutritious', 0.48710566759109497),\n",
      " (u'meals', 0.4849551022052765),\n",
      " (u'scraps', 0.47749289870262146)]\n",
      "Label: history\n",
      "[(u'thrillers', 0.5149539709091187),\n",
      " (u'fascinating', 0.50445556640625),\n",
      " (u'dystopian', 0.501777172088623),\n",
      " (u'lore', 0.4992004632949829),\n",
      " (u'parallels', 0.49495673179626465)]\n",
      "Label: mathematics\n",
      "[(u'proofs', 0.7183476090431213),\n",
      " (u'mathematical', 0.6981117725372314),\n",
      " (u'math', 0.6802877187728882),\n",
      " (u'maths', 0.6618346571922302),\n",
      " (u'godel', 0.6530870199203491)]\n",
      "Label: movies\n",
      "[(u'films', 0.6884034872055054),\n",
      " (u'flicks', 0.6682803630828857),\n",
      " (u'blockbusters', 0.6573898196220398),\n",
      " (u'movie', 0.6423680782318115),\n",
      " (u'masterpieces', 0.6270779371261597)]\n",
      "Label: philosophy\n",
      "[(u'metaphysics', 0.7108139991760254),\n",
      " (u'freud', 0.6633636951446533),\n",
      " (u'empiricism', 0.6597503423690796),\n",
      " (u'epistemology', 0.6302234530448914),\n",
      " (u'sociology', 0.6254299879074097)]\n",
      "Label: science\n",
      "[(u'automata', 0.4920042157173157),\n",
      " (u'philosophy', 0.48488089442253113),\n",
      " (u'literary', 0.4828050136566162),\n",
      " (u'principles', 0.48198914527893066),\n",
      " (u'epistemological', 0.47402888536453247)]\n"
     ]
    }
   ],
   "source": [
    "for label in labels:\n",
    "    print(\"Label: \" + label)\n",
    "    pprint.pprint(current_model.most_similar(label, topn=5))"
   ]
  },
  {
   "cell_type": "code",
   "execution_count": 5,
   "metadata": {
    "collapsed": false
   },
   "outputs": [
    {
     "data": {
      "text/plain": [
       "[(u'hamlet', 0.4034157991409302),\n",
       " (u'lear', 0.3999606966972351),\n",
       " (u'kimba', 0.3926089406013489),\n",
       " (u'lion', 0.38434600830078125),\n",
       " (u'daughter', 0.36814963817596436),\n",
       " (u'affair', 0.3677052855491638),\n",
       " (u'mermaid', 0.36762744188308716),\n",
       " (u'simba', 0.3667428195476532),\n",
       " (u'sisters', 0.36641520261764526),\n",
       " (u'khaleesi', 0.35848933458328247)]"
      ]
     },
     "execution_count": 5,
     "metadata": {},
     "output_type": "execute_result"
    }
   ],
   "source": [
    "current_model.most_similar(positive=['woman', 'king'], negative=['man'])"
   ]
  },
  {
   "cell_type": "code",
   "execution_count": 1,
   "metadata": {
    "collapsed": true
   },
   "outputs": [],
   "source": [
    "import pickle\n",
    "# Load back in:\n",
    "pkl_file = open('centroids.pkl','rb')\n",
    "centroids = pickle.load(pkl_file)\n",
    "pkl_file.close()"
   ]
  },
  {
   "cell_type": "code",
   "execution_count": 2,
   "metadata": {
    "collapsed": false
   },
   "outputs": [
    {
     "data": {
      "text/plain": [
       "(12, 300)"
      ]
     },
     "execution_count": 2,
     "metadata": {},
     "output_type": "execute_result"
    }
   ],
   "source": [
    "centroids.shape"
   ]
  },
  {
   "cell_type": "code",
   "execution_count": 13,
   "metadata": {
    "collapsed": false
   },
   "outputs": [
    {
     "name": "stdout",
     "output_type": "stream",
     "text": [
      "1\n",
      "[(u'thanks', 0.8603585958480835),\n",
      " (u'thank', 0.7743443250656128),\n",
      " (u'sorry', 0.6585901379585266),\n",
      " (u'fanboy', 0.6419206857681274),\n",
      " (u'misread', 0.6409236192703247),\n",
      " (u'joking', 0.6403527855873108),\n",
      " (u'eragon', 0.6384615898132324),\n",
      " (u'lol', 0.6384303569793701),\n",
      " (u'here', 0.6372079849243164),\n",
      " (u'btw', 0.6364884376525879),\n",
      " (u'haha', 0.6297140121459961),\n",
      " (u'rlm', 0.6284469962120056),\n",
      " (u'sarcastic', 0.6249234676361084),\n",
      " (u'reread', 0.6249181032180786),\n",
      " (u'wow', 0.6249175667762756)]\n",
      "2\n",
      "[(u'deleted', 1.0000001192092896),\n",
      " (u'realtime', 0.7474043965339661),\n",
      " (u'swiping', 0.7349673509597778),\n",
      " (u'beeping', 0.727302074432373),\n",
      " (u'spacesuits', 0.7264274954795837),\n",
      " (u'cortana', 0.7259467840194702),\n",
      " (u'overloads', 0.7223180532455444),\n",
      " (u'unplugging', 0.7215477228164673),\n",
      " (u'chucked', 0.7205728888511658),\n",
      " (u'restarts', 0.720058262348175),\n",
      " (u'trike', 0.719153881072998),\n",
      " (u'multitasking', 0.7190435528755188),\n",
      " (u'mainframe', 0.7177793979644775),\n",
      " (u'paged', 0.7177047729492188),\n",
      " (u'popup', 0.7175811529159546)]\n",
      "3\n",
      "[(u'perdition', 0.8649915456771851),\n",
      " (u'argo', 0.8631080985069275),\n",
      " (u'eragon', 0.8538824319839478),\n",
      " (u'pearce', 0.8536279201507568),\n",
      " (u'poltergeist', 0.851506233215332),\n",
      " (u'cheadle', 0.8504478931427002),\n",
      " (u'goonies', 0.8415199518203735),\n",
      " (u'gyllenhal', 0.8392132520675659),\n",
      " (u'ferrell', 0.8381198644638062),\n",
      " (u'foxcatcher', 0.8360243439674377),\n",
      " (u'uncredited', 0.8334715366363525),\n",
      " (u'villeneuve', 0.8330994844436646),\n",
      " (u'saoirse', 0.832748293876648),\n",
      " (u'armitage', 0.8325846195220947),\n",
      " (u'miscast', 0.8306980729103088)]\n",
      "4\n",
      "[(u'r', 0.8142936825752258),\n",
      " (u'truefilm', 0.7956112623214722),\n",
      " (u'moviescirclejerk', 0.7698184251785278),\n",
      " (u'reddit', 0.767471432685852),\n",
      " (u'marvelstudios', 0.73409104347229),\n",
      " (u'freeebooks', 0.712965190410614),\n",
      " (u'comicbookmovies', 0.7072862386703491),\n",
      " (u'lewronggeneration', 0.7057520151138306),\n",
      " (u'techsupport', 0.701693058013916),\n",
      " (u'please', 0.6954489350318909),\n",
      " (u'slashfilm', 0.6848282814025879),\n",
      " (u'ayers', 0.6828924417495728),\n",
      " (u'this', 0.6806512475013733),\n",
      " (u'any', 0.6803760528564453),\n",
      " (u'tipofmytongue', 0.6777204275131226)]\n",
      "5\n",
      "[(u'eragon', 0.8114900588989258),\n",
      " (u'movie', 0.7907098531723022),\n",
      " (u'tonally', 0.78467857837677),\n",
      " (u'villian', 0.7834593653678894),\n",
      " (u'just', 0.7770339846611023),\n",
      " (u'but', 0.7691402435302734),\n",
      " (u'really', 0.7686454653739929),\n",
      " (u'gyllenhal', 0.7656607031822205),\n",
      " (u'like', 0.7649069428443909),\n",
      " (u'disliked', 0.762328028678894),\n",
      " (u'nod', 0.7614859342575073),\n",
      " (u'typecast', 0.7593642473220825),\n",
      " (u'so', 0.7593405842781067),\n",
      " (u'actually', 0.7590639591217041),\n",
      " (u'rewatchable', 0.7586624622344971)]\n",
      "6\n",
      "[(u'didion', 0.9477294683456421),\n",
      " (u'daemon', 0.9461359977722168),\n",
      " (u'mullet', 0.9452469944953918),\n",
      " (u'springmeier', 0.9409748315811157),\n",
      " (u'exupery', 0.940456748008728),\n",
      " (u'piranha', 0.9396203756332397),\n",
      " (u'fingolfin', 0.9393273591995239),\n",
      " (u'shardblade', 0.9391714334487915),\n",
      " (u'alexandre', 0.9386627674102783),\n",
      " (u'wraith', 0.9384651184082031),\n",
      " (u'gorman', 0.9382043480873108),\n",
      " (u'kaladin', 0.9381484985351562),\n",
      " (u'elie', 0.9376020431518555),\n",
      " (u'burghley', 0.9372804164886475),\n",
      " (u'cronin', 0.9367252588272095)]\n",
      "7\n",
      "[(u'pulpy', 0.8238842487335205),\n",
      " (u'macgruber', 0.8218358755111694),\n",
      " (u'rango', 0.8161908388137817),\n",
      " (u'superbad', 0.8150880336761475),\n",
      " (u'cujo', 0.8089380264282227),\n",
      " (u'gunplay', 0.8074625730514526),\n",
      " (u'pearce', 0.799715518951416),\n",
      " (u'romcom', 0.7978909015655518),\n",
      " (u'heston', 0.7952771782875061),\n",
      " (u'worldbuilding', 0.792087733745575),\n",
      " (u'caddyshack', 0.7881226539611816),\n",
      " (u'mortdecai', 0.7877417802810669),\n",
      " (u'elizabethtown', 0.7866787910461426),\n",
      " (u'blizzcon', 0.7861701846122742),\n",
      " (u'baz', 0.7844635248184204)]\n",
      "8\n",
      "[(u'com', 0.8088266849517822),\n",
      " (u'vrtx', 0.7977084517478943),\n",
      " (u'slashfilm', 0.7930765151977539),\n",
      " (u'zombieland', 0.7908167839050293),\n",
      " (u'www', 0.7882512807846069),\n",
      " (u'armitage', 0.78313148021698),\n",
      " (u'rw', 0.763770341873169),\n",
      " (u'dailymotion', 0.7601912021636963),\n",
      " (u'ost', 0.7600967884063721),\n",
      " (u'vanityfair', 0.7545331716537476),\n",
      " (u'http', 0.7535554766654968),\n",
      " (u'rg', 0.752246618270874),\n",
      " (u'fxktzmqgxri', 0.7521328330039978),\n",
      " (u'ew', 0.7507747411727905),\n",
      " (u'screenrant', 0.745844304561615)]\n",
      "9\n",
      "[(u'eragon', 0.826791524887085),\n",
      " (u'movie', 0.8256140947341919),\n",
      " (u'rewatchable', 0.8154881000518799),\n",
      " (u'tonally', 0.7899484038352966),\n",
      " (u'slasher', 0.7867333889007568),\n",
      " (u'poltergeist', 0.7837000489234924),\n",
      " (u'expendables', 0.7783795595169067),\n",
      " (u'disliked', 0.7771174311637878),\n",
      " (u'villian', 0.7757750749588013),\n",
      " (u'forgettable', 0.7754000425338745),\n",
      " (u'tdk', 0.7750393152236938),\n",
      " (u'rewatch', 0.7735714912414551),\n",
      " (u'pearce', 0.7729039192199707),\n",
      " (u'cameos', 0.7711702585220337),\n",
      " (u'tdkr', 0.7710295915603638)]\n",
      "10\n",
      "[(u'eragon', 0.8413070440292358),\n",
      " (u'storyteller', 0.8312188386917114),\n",
      " (u'tonally', 0.8266795873641968),\n",
      " (u'screenwriting', 0.8069918155670166),\n",
      " (u'gyllenhal', 0.8016159534454346),\n",
      " (u'heroines', 0.800443708896637),\n",
      " (u'orci', 0.7956188917160034),\n",
      " (u'talia', 0.7909164428710938),\n",
      " (u'grrm', 0.7887117266654968),\n",
      " (u'preachy', 0.7879666686058044),\n",
      " (u'worldbuilding', 0.782524049282074),\n",
      " (u'rewatchable', 0.7812196016311646),\n",
      " (u'thematically', 0.780985951423645),\n",
      " (u'quippy', 0.7809776067733765),\n",
      " (u'pearce', 0.7796777486801147)]\n",
      "11\n",
      "[(u'eragon', 0.8240547776222229),\n",
      " (u'blizzcon', 0.818446159362793),\n",
      " (u'gyllenhal', 0.8159221410751343),\n",
      " (u'pearce', 0.8114768266677856),\n",
      " (u'rewatchable', 0.8096917271614075),\n",
      " (u'talia', 0.8032464385032654),\n",
      " (u'tonally', 0.8004763722419739),\n",
      " (u'voiceover', 0.7976806163787842),\n",
      " (u'typecast', 0.7925926446914673),\n",
      " (u'apocalypto', 0.7901477813720703),\n",
      " (u'furiousa', 0.7900068759918213),\n",
      " (u'storyteller', 0.7884066104888916),\n",
      " (u'slasher', 0.7865455150604248),\n",
      " (u'tasm', 0.7804456949234009),\n",
      " (u'baddie', 0.7804224491119385)]\n",
      "12\n",
      "[(u'storyteller', 0.8631452322006226),\n",
      " (u'heroines', 0.8625438809394836),\n",
      " (u'toho', 0.8603470325469971),\n",
      " (u'worldbuilding', 0.8569574356079102),\n",
      " (u'dcau', 0.856163501739502),\n",
      " (u'kvothe', 0.8503420352935791),\n",
      " (u'backdrops', 0.8500557541847229),\n",
      " (u'cosmere', 0.8471652269363403),\n",
      " (u'fanboying', 0.8418164849281311),\n",
      " (u'jkr', 0.8414006233215332),\n",
      " (u'ludlum', 0.8396918773651123),\n",
      " (u'reshooting', 0.8375356197357178),\n",
      " (u'blizzcon', 0.8361039161682129),\n",
      " (u'bolin', 0.8343663215637207),\n",
      " (u'angharad', 0.8335766792297363)]\n"
     ]
    }
   ],
   "source": [
    "import pprint\n",
    "\n",
    "counter = 1\n",
    "for centroid in centroids:\n",
    "    print(counter)\n",
    "    pprint.pprint(current_model.most_similar(positive=[centroid], topn=15))\n",
    "    counter += 1"
   ]
  },
  {
   "cell_type": "code",
   "execution_count": null,
   "metadata": {
    "collapsed": true
   },
   "outputs": [],
   "source": []
  }
 ],
 "metadata": {
  "kernelspec": {
   "display_name": "Python 2",
   "language": "python",
   "name": "python2"
  },
  "language_info": {
   "codemirror_mode": {
    "name": "ipython",
    "version": 2
   },
   "file_extension": ".py",
   "mimetype": "text/x-python",
   "name": "python",
   "nbconvert_exporter": "python",
   "pygments_lexer": "ipython2",
   "version": "2.7.10"
  }
 },
 "nbformat": 4,
 "nbformat_minor": 0
}
