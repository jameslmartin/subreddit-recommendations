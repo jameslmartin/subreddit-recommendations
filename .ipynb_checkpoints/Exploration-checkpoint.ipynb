{
 "cells": [
  {
   "cell_type": "code",
   "execution_count": 1,
   "metadata": {
    "collapsed": false
   },
   "outputs": [
    {
     "name": "stdout",
     "output_type": "stream",
     "text": [
      "/playpen/net-score-data/jamesml/ml/notebooks\r\n"
     ]
    }
   ],
   "source": [
    "!pwd"
   ]
  },
  {
   "cell_type": "code",
   "execution_count": 2,
   "metadata": {
    "collapsed": true
   },
   "outputs": [],
   "source": [
    "import pandas as pd\n",
    "import sqlite3\n",
    "import re\n",
    "import numpy as np"
   ]
  },
  {
   "cell_type": "code",
   "execution_count": 3,
   "metadata": {
    "collapsed": false
   },
   "outputs": [],
   "source": [
    "sql_conn = sqlite3.connect('../data/database.sqlite')"
   ]
  },
  {
   "cell_type": "raw",
   "metadata": {
    "collapsed": false
   },
   "source": [
    "#Convert this cell back to code to run this query. Note: it takes a bit of time\n",
    "\n",
    "c = sql_conn.cursor()\n",
    "for row in c.execute('''SELECT COUNT(DISTINCT subreddit) FROM May2015'''):\n",
    "    print row"
   ]
  },
  {
   "cell_type": "code",
   "execution_count": 4,
   "metadata": {
    "collapsed": false
   },
   "outputs": [],
   "source": [
    "Users = pd.read_sql(\"SELECT author, subreddit FROM May2015 WHERE subreddit = 'republicans' OR subreddit='democrats'\",sql_conn)\n",
    "Users.drop_duplicates(inplace = True)"
   ]
  },
  {
   "cell_type": "code",
   "execution_count": 5,
   "metadata": {
    "collapsed": false
   },
   "outputs": [
    {
     "name": "stdout",
     "output_type": "stream",
     "text": [
      "<class 'pandas.core.frame.DataFrame'>\n",
      "Int64Index: 34 entries, 1437 to 1548\n",
      "Data columns (total 2 columns):\n",
      "author       34 non-null object\n",
      "subreddit    34 non-null object\n",
      "dtypes: object(2)\n",
      "memory usage: 816.0+ bytes\n",
      "<class 'pandas.core.frame.DataFrame'>\n",
      "Int64Index: 391 entries, 0 to 1435\n",
      "Data columns (total 2 columns):\n",
      "author       391 non-null object\n",
      "subreddit    391 non-null object\n",
      "dtypes: object(2)\n",
      "memory usage: 9.2+ KB\n"
     ]
    }
   ],
   "source": [
    "reps = Users[Users['subreddit'] == 'republicans']\n",
    "reps.info()\n",
    "\n",
    "dems = Users[Users['subreddit'] == 'democrats']\n",
    "dems.info()"
   ]
  },
  {
   "cell_type": "code",
   "execution_count": 6,
   "metadata": {
    "collapsed": false
   },
   "outputs": [
    {
     "name": "stdout",
     "output_type": "stream",
     "text": [
      "<class 'pandas.core.frame.DataFrame'>\n",
      "Int64Index: 244927 entries, 0 to 244926\n",
      "Data columns (total 2 columns):\n",
      "author       244927 non-null object\n",
      "subreddit    244927 non-null object\n",
      "dtypes: object(2)\n",
      "memory usage: 5.6+ MB\n"
     ]
    }
   ],
   "source": [
    "pol_Users = pd.read_sql(\"SELECT author, subreddit FROM May2015 WHERE subreddit = 'politics'\", sql_conn)\n",
    "pol_Users.info()"
   ]
  },
  {
   "cell_type": "code",
   "execution_count": 7,
   "metadata": {
    "collapsed": false
   },
   "outputs": [
    {
     "name": "stdout",
     "output_type": "stream",
     "text": [
      "<class 'pandas.core.frame.DataFrame'>\n",
      "Int64Index: 38492 entries, 0 to 244922\n",
      "Data columns (total 2 columns):\n",
      "author       38492 non-null object\n",
      "subreddit    38492 non-null object\n",
      "dtypes: object(2)\n",
      "memory usage: 902.2+ KB\n"
     ]
    }
   ],
   "source": [
    "pol_Users.drop_duplicates(inplace=True)\n",
    "pol_Users.info()"
   ]
  },
  {
   "cell_type": "markdown",
   "metadata": {},
   "source": [
    "Note that there are 244,927 unique *comments* in /r/politics and 38,492 unique *users*  \n",
    "\n",
    "Now to explore some more specific subreddits..."
   ]
  },
  {
   "cell_type": "code",
   "execution_count": 8,
   "metadata": {
    "collapsed": false
   },
   "outputs": [],
   "source": [
    "republicans_comments = pd.read_sql(\"SELECT author, body, subreddit, score FROM May2015 WHERE subreddit = 'republicans' OR subreddit = 'republican' \", sql_conn)"
   ]
  },
  {
   "cell_type": "code",
   "execution_count": 64,
   "metadata": {
    "collapsed": false
   },
   "outputs": [
    {
     "name": "stdout",
     "output_type": "stream",
     "text": [
      "<class 'pandas.core.frame.DataFrame'>\n",
      "Int64Index: 112 entries, 0 to 111\n",
      "Data columns (total 4 columns):\n",
      "author       112 non-null object\n",
      "body         112 non-null object\n",
      "subreddit    112 non-null object\n",
      "score        112 non-null int64\n",
      "dtypes: int64(1), object(3)\n",
      "memory usage: 4.4+ KB\n"
     ]
    }
   ],
   "source": [
    "republicans_comments.info()"
   ]
  },
  {
   "cell_type": "code",
   "execution_count": 39,
   "metadata": {
    "collapsed": false
   },
   "outputs": [
    {
     "data": {
      "text/plain": [
       "u\"The article is talking primarily about organizers, donors and the like, many of whom are still supporting Christie. This isn't about killing Christie's already very low chances, this is about Jeb getting more support. \""
      ]
     },
     "execution_count": 39,
     "metadata": {},
     "output_type": "execute_result"
    }
   ],
   "source": [
    "training_set = np.array(republicans_comments['body'])\n",
    "training_set[5]"
   ]
  },
  {
   "cell_type": "code",
   "execution_count": 54,
   "metadata": {
    "collapsed": false
   },
   "outputs": [],
   "source": [
    "from sklearn.feature_extraction.text import CountVectorizer\n",
    "vectorizer = CountVectorizer(stop_words='english')"
   ]
  },
  {
   "cell_type": "code",
   "execution_count": 57,
   "metadata": {
    "collapsed": false
   },
   "outputs": [
    {
     "name": "stdout",
     "output_type": "stream",
     "text": [
      "{u'consider': 243, u'lack': 613, u'welfare': 1208, u'bellicose': 134, u'hate': 504, u'children': 202, u'aggression': 70, u'increase': 561, u'votes': 1189, u'referring': 899, u'eligible': 362, u'tv': 1134, u'voted': 1187, u'smile': 1017, u'sped': 1038, u'volunteer': 1184, u'sway': 1075, u'worth': 1233, u'norm': 739, u'woman': 1223, u'jebster': 591, u'parcel': 786, u'rise': 938, u'resistance': 925, u'covert': 260, u'worst': 1232, u'decide': 290, u'funneled': 455, u'vastly': 1165, u'difference': 317, u'vast': 1164, u'benevolent': 137, u'list': 643, u'large': 616, u'vibes': 1172, u'small': 1015, u'economically': 350, u'force': 434, u'escalation': 384, u'tea': 1088, u'ted': 1090, u'direct': 319, u'elections': 360, u'rate': 884, u'enhancement': 377, u'machines': 662, u'creatures': 265, u'witnessed': 1222, u'deeply': 296, u'section': 980, u'reasoning': 895, u'crush': 269, u'favored': 415, u'version': 1167, u'causes': 188, u'churches': 207, u'increasing': 564, u'public': 862, u'told': 1118, u'edited': 352, u'iran': 582, u'empower': 369, u'ranges': 882, u'shouldn': 1003, u'civilians': 213, u'100': 5, u'violate': 1179, u'search': 973, u'bible': 142, u'employees': 367, u'economics': 351, u'smoke': 1018, u'social': 1020, u'action': 52, u'military': 688, u'changes': 196, u'divide': 327, u'family': 412, u'reagan': 887, u'highly': 517, u'vice': 1173, u'moral': 702, u'socioeconomic': 1025, u'gosh': 477, u'establish': 388, u'1900': 10, u'marauders': 670, u'flaws': 428, u'takes': 1077, u'brinkley': 163, u'voters': 1188, u'arms': 104, u'rationalism': 885, u'indiana': 568, u'tell': 1092, u'supporters': 1068, u'successful': 1064, u'mozilla': 710, u'wars': 1201, u'particular': 787, u'90': 41, u'glad': 468, u'circumstances': 209, u'helped': 514, u'keeping': 605, u'morally': 703, u'recall': 897, u'pataki': 791, u'work': 1227, u'gasoline': 458, u'movies': 709, u'paragraph': 785, u'era': 383, u'mr': 711, u'vaguer': 1161, u'example': 393, u'history': 523, u'jindal': 594, u'leonhardt': 628, u'memoirs': 685, u'estate': 389, u'household': 533, u'states': 1051, u'numbers': 747, u'want': 1196, u'libertarian': 636, u'david': 283, u'end': 372, u'goal': 470, u'carriers': 185, u'inhabitants': 573, u'moron': 704, u'faulty': 414, u'beach': 128, u'minority': 692, u'wrong': 1235, u'coming': 228, u'invasion': 581, u'law': 621, u'apocalypse': 90, u'effective': 354, u'wins': 1219, u'capitalism': 181, u'ultimate': 1135, u'fundamental': 450, u'things': 1104, u'dream': 340, u'order': 768, u'help': 513, u'office': 758, u'fall': 410, u'trade': 1123, u'attitude': 113, u'signs': 1008, u'hell': 512, u'25': 21, u'26': 22, u'rapidly': 883, u'fit': 427, u'wishful': 1221, u'christie': 206, u'actually': 54, u'late': 619, u'differed': 316, u'alter': 78, u'donors': 334, u'good': 473, u'affected': 62, u'combination': 225, u'primary': 844, u'hispanics': 521, u'easily': 345, u'intervene': 578, u'inequality': 571, u'die': 315, u'went': 1209, u'mean': 676, u'schemes': 970, u'billion': 145, u'meaningless': 677, u'house': 532, u'energy': 376, u'police': 815, u'connect': 240, u'real_estate': 889, u'event': 392, u'borne': 157, u'funding': 453, u'amnesty': 84, u'blacks': 149, u'quantify': 868, u'douglas': 339, u'research': 922, u'health': 508, u'got': 478, u'millions': 690, u'issue': 587, u'gop': 476, u'belief': 131, u'risen': 939, u'resume': 932, u'veto': 1169, u'free': 441, u'standard': 1044, u'reason': 894, u'proxy': 861, u'members': 683, u'wanted': 1197, u'regean': 902, u'enormous': 378, u'benefits': 136, u'created': 264, u'optics': 767, u'filter': 422, u'american': 82, u'expecting': 401, u'isn': 586, u'trickle': 1127, u'assign': 110, u'rand': 880, u'major': 665, u'organize': 771, u'probability': 848, u'number': 746, u'feet': 418, u'philosophical': 805, u'smaller': 1016, u'wasn': 1203, u'says': 963, u'wages': 1192, u'guess': 496, u'service': 995, u'needed': 729, u'historian': 522, u'elevator': 361, u'jeb': 590, u'contra': 250, u'grahamnesty': 486, u'zealot': 1244, u'q19n7dtlqaa': 866, u'exploded': 403, u'serve': 994, u'took': 1119, u'immediate': 545, u'japanese': 589, u'believe': 133, u'convinced': 254, u'obama': 749, u'grew': 489, u'iranian': 583, u'nominate': 735, u'immigrants': 547, u'final': 423, u'trey': 1126, u'disported': 325, u'2020': 20, u'supposed': 1071, u'solely': 1027, u'perspective': 803, u'sees': 986, u'nominee': 737, u'outstanding': 778, u'ran': 879, u'modern': 698, u'ages': 69, u'disgusting': 324, u'talking': 1082, u'seen': 985, u'forced': 435, u'laden': 614, u'self': 987, u'1967': 11, u'majority': 666, u'subjects': 1060, u'build': 166, u'doomed': 335, u'evangelist': 391, u'equipping': 382, u'hired': 520, u'plan': 811, u'organization': 770, u'services': 996, u'evangelism': 390, u'extremely': 405, u'soared': 1019, u'africa': 66, u'don': 332, u'camp': 174, u'definitely': 301, u'principle': 845, u'voting': 1190, u'responded': 928, u'came': 173, u'saying': 962, u'rebels': 896, u'carefully': 184, u'impact': 548, u'headline': 507, u'unrealistic': 1152, u'freedoms': 443, u'bush': 168, u'judged': 599, u'pretty': 841, u'override': 780, u'govern': 479, u'rica': 935, u'asians': 107, u'cantankerous': 179, u'secular': 981, u'pocket': 813, u'theft': 1099, u'new': 731, u'fluff': 430, u'progressive': 854, u'doubled': 337, u'bad': 120, u'double': 336, u'release': 907, u'wrote': 1236, u'secretary': 978, u'set': 998, u'patriotism': 792, u'reread': 921, u'fair': 409, u'locale': 649, u'intelligence': 574, u'depends': 308, u'defense': 299, u'sec': 975, u'result': 929, u'fail': 408, u'close': 219, u'armageddon': 102, u'best': 139, u'subject': 1059, u'said': 954, u'06': 2, u'04': 1, u'movie': 708, u'08': 3, u'currently': 274, u'wikipedia': 1215, u'blurs': 153, u'unions': 1145, u'won': 1225, u'various': 1163, u'alignment': 76, u'sorts': 1030, u'previous': 842, u'discovery': 322, u'duggary': 343, u'nature': 722, u'sold': 1026, u'religious': 909, u'aircraft': 74, u'tripled': 1129, u'blockbuser': 150, u'news': 732, u'picking': 806, u'debt': 289, u'improve': 553, u'protect': 860, u'country': 259, u'peacenik': 797, u'minorities': 691, u'context': 248, u'logic': 652, u'aristorats': 101, u'tough': 1120, u'point': 814, u'acted': 51, u'community': 231, u'height': 511, u'simply': 1009, u'likes': 640, u'testable': 1096, u'expensive': 402, u'speak': 1035, u'consuming': 247, u'petty': 804, u'raise': 876, u'incomes': 560, u'monthly': 701, u'create': 263, u'satire': 958, u'quickly': 872, u'secret': 977, u'basic': 126, u'entered': 379, u'repelled': 913, u'life': 638, u'deeper': 295, u'republicans': 920, u'fund': 449, u'kids': 606, u'understand': 1140, u'checkable': 200, u'despite': 310, u'unnecessarily': 1150, u'honest': 527, u'unpopular': 1151, u'presses': 840, u'replaces': 916, u'look': 654, u'presidency': 837, u'socialist': 1022, u'budget': 165, u'governor': 481, u'brilliant': 162, u'near': 724, u'socialism': 1021, u'suppose': 1070, u'behavior': 130, u'shift': 1001, u'property': 858, u'real': 888, u'seven': 1000, u'larger': 617, u'hoping': 529, u'played': 812, u'37': 33, u'defeated': 297, u'horsepower': 530, u'leaving': 625, u'crusaders': 268, u'anymore': 88, u'saw': 960, u'make': 667, u'thievery': 1102, u'independent': 566, u'used': 1156, u'affairs': 61, u'comprehensive': 233, u'declaring': 293, u'rabidity': 874, u'hand': 498, u'000': 0, u'opportunity': 766, u'cycle': 277, u'lower': 661, u'scenario': 969, u'studies': 1057, u'cruz': 270, u'analysis': 86, u'obviously': 751, u'concrete': 235, u'client': 217, u'mother': 705, u'claims': 214, u'corporate': 255, u'left': 627, u'opinions': 765, u'qwjzi39dvyw': 873, u'just': 602, u'unemployment': 1143, u'mid': 686, u'fighters': 420, u'reformation': 900, u'questions': 870, u'world': 1230, u'useful': 1157, u'functionally': 448, u'toughness': 1121, u'letting': 632, u'adding': 55, u'cut': 275, u'blowback': 152, u'candidate': 177, u'source': 1031, u'location': 651, u'easy': 347, u's1600': 953, u'gave': 459, u'bin': 147, u'big': 144, u'possibly': 826, u'judge': 598, u'bit': 148, u'replace': 915, u'bushy': 169, u'desire': 309, u'imposed': 550, u'55': 37, u'follows': 433, u'50': 36, u'specific': 1037, u'continue': 249, u'security': 982, u'essential': 386, u'love': 659, u'www': 1237, u'right': 936, u'deal': 285, u'people': 800, u'senate': 988, u'christian': 205, u'ballooned': 124, u'outnumber': 777, u'summation': 1065, u'economic': 349, u'election': 359, u'dear': 287, u'nicaragua': 733, u'enemies': 375, u'scale': 966, u'coercion': 221, u'public_good': 863, u'fox': 439, u'religion': 908, u'asking': 108, u'central': 190, u'cnn': 220, u'invade': 580, u'crony': 266, u'run': 949, u'deleted': 302, u'gowdy': 482, u'bp': 160, u'hostages': 531, u'terraced': 1095, u'usa': 1154, u'dollars': 331, u'undocumented': 1141, u'range': 881, u'genocide': 461, u'congressman': 239, u'slightly': 1013, u'seeing': 983, u'raised': 877, u'clinton': 218, u'osama': 775, u'google': 474, u'raiser': 878, u'primarily': 843, u'balanced': 123, u'lesson': 629, u'stumble': 1058, u'east': 346, u'riskier': 940, u'crowd': 267, u'spending': 1040, u'support': 1066, u'question': 869, u'long': 653, u'payment': 795, u'gif': 467, u'crackdown': 262, u'way': 1204, u'resulted': 930, u'war': 1199, u'happy': 502, u'medium': 681, u'form': 437, u'offer': 756, u'jewish': 593, u'boys': 159, u'approval': 96, u'removed': 911, u'true': 1131, u'posted': 828, u'cia': 208, u'isis': 584, u'happen': 500, u'called': 172, u'reconcile': 898, u'steady': 1052, u'doesn': 329, u'promised': 857, u'modeling': 697, u'face': 406, u'graham': 485, u'check': 199, u'populus': 824, u'liberalize': 634, u'upcoming': 1153, u'dying': 344, u'nah': 717, u'peace': 796, u'reality': 890, u'afford': 63, u'politicians': 819, u'role': 942, u'income': 559, u'department': 307, u'shrink': 1005, u'nice': 734, u'surprise': 1073, u'problems': 850, u'resign': 924, u'allowing': 77, u'jones': 597, u'land': 615, u'faster': 413, u'1800': 9, u'age': 67, u'santorum': 957, u'subscription': 1063, u'vietnam': 1174, u'time': 1113, u'walker': 1194, u'decision': 291, u'mobilized': 695, u'neighbors': 730, u'gt': 495, u'global': 469, u'results': 931, u'leads': 624, u'issues': 588, u'vietnamese': 1175, u'obamacare': 750, u'young': 1243, u'send': 990, u'passage': 790, u'women': 1224, u'veterans': 1168, u'resources': 926, u'mainstream': 664, u'seemingly': 984, u'choice': 203, u'putting': 865, u'tanks': 1083, u'telling': 1093, u'trouble': 1130, u'quadrupled': 867, u'posture': 829, u'entire': 380, u'impressive': 552, u'level': 633, u'did': 313, u'apartheid': 89, u'democrat': 303, u'standards': 1045, u'deals': 286, u'race': 875, u'quick': 871, u'guy': 497, u'mujahidin': 712, u'noted': 741, u'yall': 1238, u'tremendously': 1125, u'century': 191, u'regret': 904, u'prediction': 833, u'jump': 600, u'incidentally': 556, u'eating': 348, u'pedo': 798, u'soviets': 1034, u'afghanistan': 64, u'constitution': 245, u'current': 273, u'300': 27, u'waiting': 1193, u'goes': 471, u'reply': 917, u'nazis': 723, u'supporting': 1069, u'led': 626, u'exchange': 394, u'let': 630, u'groups': 492, u'making': 669, u'scrapped': 972, u'change': 195, u'extreme': 404, u'great': 487, u'exemption': 396, u'33': 30, u'32': 29, u'30': 26, u'funded': 452, u'35': 32, u'34': 31, u'usually': 1158, u'makes': 668, u'firefox': 425, u'precipitously': 832, u'nearest': 725, u'win': 1217, u'licensing': 637, u'buildup': 167, u'scandal': 967, u'post': 827, u'standing': 1046, u'use': 1155, u'working': 1228, u'remains': 910, u'illegal': 542, u'predictions': 834, u'https': 535, u'save': 959, u'doubling': 338, u'theoretical': 1100, u'today': 1117, u'biblical': 143, u'started': 1049, u'occurred': 753, u'baby': 119, u'ok': 761, u'appointed': 95, u'charity': 198, u'fly': 431, u'account': 47, u'sanctions': 956, u'car': 182, u'originally': 774, u'abortion': 45, u'retreat': 933, u'freedom': 442, u'following': 432, u'meet': 682, u'control': 251, u'spy': 1042, u'bent': 138, u'mirrors': 693, u'expanding': 399, u'awesome': 118, u'tax': 1084, u'confused': 237, u'pieces': 807, u'high': 516, u'heard': 509, u'dropped': 341, u'offense': 755, u'serial': 992, u'occur': 752, u'stemmed': 1053, u'united': 1146, u'mutually': 714, u'destroying': 311, u'till': 1112, u'rubio': 946, u'privatize': 846, u'memoir': 684, u'overridden': 779, u'averted': 117, u'impulsive': 554, u'ronald': 944, u'applications': 94, u'produce': 851, u'date': 282, u'nomination': 736, u'grow': 493, u'npr': 744, u'advocated': 59, u'maybe': 675, u'switch': 1076, u'sc': 965, u'sb': 964, u'volunteers': 1185, u'mustache': 713, u'exclusive': 395, u'serving': 997, u'gradual': 484, u'altogether': 79, u'years': 1241, u'ended': 373, u'including': 558, u'looks': 656, u'cuts': 276, u'group': 491, u'thumb': 1110, u'interesting': 577, u'll': 647, u'acres': 49, u'2bpoliticians': 25, u'willing': 1216, u'choose': 204, u'd71yu6grdqqn8qfi74giba': 278, u'policy': 817, u'2014': 17, u'talbian': 1079, u'2016': 19, u'undermines': 1139, u'inefficiency': 570, u'2012': 16, u'non': 738, u'greater': 488, u'views': 1178, u'repercussions': 914, u'runs': 952, u'indigenous': 569, u'taliban': 1080, u'wealthy': 1205, u'republican': 919, u'realize': 892, u'presidential': 839, u'enacted': 371, u'wont': 1226, u'term': 1094, u'didn': 314, u'entirely': 381, u'en': 370, u'ei': 357, u'eh': 356, u'doing': 330, u'ills': 544, u'yeah': 1239, u'motivated_reasoning': 707, u'society': 1024, u'begun': 129, u'year': 1240, u'80': 40, u'special': 1036, u'intended': 575, u'canada': 175, u'secretly': 979, u'shown': 1004, u'socialized': 1023, u'populace': 822, u'profit': 853, u'defend': 298, u'pedophile': 799, u'islamist': 585, u'looking': 655, u'seriously': 993, u'wholeheartedly': 1213, u'emerged': 366, u'intervention': 579, u'viable': 1171, u'theory': 1101, u'million': 689, u'california': 171, u'york': 1242, u'conservatives': 242, u'org': 769, u'rls': 941, u'care': 183, u'training': 1124, u'mainland': 663, u'couldn': 257, u'florida': 429, u'times': 1114, u'thing': 1103, u'person': 802, u'place': 808, u'massive': 674, u'think': 1105, u'south': 1032, u'revenue': 934, u'jesus': 592, u'americans': 83, u'president': 838, u'vote': 1186, u'impossible': 551, u'fight': 419, u'open': 764, u'george': 463, u'size': 1012, u'vetoed': 1170, u'little': 646, u'checked': 201, u'curing': 272, u'trillion': 1128, u'relations': 906, u'throwing': 1109, u'fought': 438, u'realization': 891, u'white': 1211, u'pakistani': 784, u'cite': 210, u'friend': 445, u'taxation': 1085, u'alan': 75, u'regards': 901, u'natural': 720, u'eliminated': 363, u'immigrant': 546, u'haven': 505, u'population': 823, u'11': 6, u'10': 4, u'15': 7, u'warfare': 1200, u'2015': 18, u'18': 8, u'bother': 158, u'future': 456, u'represents': 918, u'ascendancy': 106, u'bet': 140, u'false': 411, u'viewer': 1177, u'pro': 847, u'argument': 99, u'genocides': 462, u'say': 961, u'unlikely': 1148, u'tjihqdi_f4i': 1116, u'need': 728, u'north': 740, u'apparently': 91, u'clearly': 216, u'afraid': 65, u'bailed': 121, u'efficient': 355, u'pursued': 864, u'fucking': 446, u'able': 44, u'ideas': 539, u'incentive': 555, u'wanting': 1198, u'channel': 197, u'worldwide': 1231, u'sure': 1072, u'nytimes': 748, u'knew': 610, u'paid': 782, u'importantly': 549, u'america': 81, u'class': 215, u'especially': 385, u'surprising': 1074, u'undeniable': 1137, u'average': 116, u'later': 620, u'stronger': 1055, u'archaeology': 98, u'talk': 1081, u'nuclear': 745, u'senior': 991, u'fact': 407, u'laws': 622, u'affair': 60, u'chances': 194, u'supported': 1067, u'discovered': 321, u'democrats': 304, u'fear': 416, u'data': 281, u'line': 642, u'slow': 1014, u'based': 125, u'short': 1002, u'going': 472, u'candidates': 178, u'communist': 230, u'local': 648, u'meant': 679, u'means': 678, u'condemning': 236, u'employers': 368, u'ones': 763, u'nearly': 726, u'utf': 1159, u'teens': 1091, u'freaking': 440, u'median': 680, u'bathwater': 127, u'taxes': 1087, u'blogspot': 151, u'taxed': 1086, u'grad': 483, u'vision': 1181, u'view': 1176, u'wiki': 1214, u'knowing': 612, u'honesty': 528, u'humans': 538, u'seat': 974, u'huckabee': 536, u'elected': 358, u'officials': 760, u'college': 223, u'voluntary': 1183, u'registering': 903, u'attempting': 112, u'federal': 417, u'jumped': 601, u'weapons': 1207, u'state': 1050, u'justified': 603, u'jobs': 596, u'ability': 43, u'agencies': 68, u'killing': 608, u'embarrassment': 365, u'job': 595, u'disproportionately': 326, u'come': 226, u'declining': 294, u'taking': 1078, u'drug': 342, u'agree': 72, u'residency': 923, u'senator': 989, u'wheels': 1210, u'masses': 673, u'comes': 227, u'grounds': 490, u'pakistan': 783, u'adjusted': 56, u'cancer': 176, u'wall': 1195, u'endless': 374, u'29': 24, u'60': 38, u'subscribe': 1062, u'anti': 87, u'3000': 28, u'article': 105, u'cr': 261, u'winning': 1218, u'runaway': 950, u'considering': 244, u'better': 141, u'oliver': 762, u'capable': 180, u'locally': 650, u'vacation': 1160, u'liberals': 635, u'ah': 73, u'outliers': 776, u'direction': 320, u'controlled': 252, u'aaaaaaaaahk': 42, u'offered': 757, u'overwhelmingly': 781, u'essentially': 387, u'curbing': 271, u'hmm': 524, u'presided': 836, u'abortions': 46, u'countless': 258, u'case': 186, u'polls': 820, u'harder': 503, u'cash': 187, u'texas': 1097, u'policies': 816, u'situation': 1011, u'mythology': 716, u'interconnected': 576, u've': 1166, u'wouldn': 1234, u'commander': 229, u'vp': 1191, u'middle': 687, u'dems': 306, u'turns': 1133, u'motivated': 706, u'foreign': 436, u'technology': 1089, u'decisively': 292, u'finance': 424, u'different': 318, u'productivity': 852, u'pay': 794, u'civilian': 212, u'administration': 57, u'arguments': 100, u'largest': 618, u'lite': 644, u'party': 789, u'gets': 464, u'breakdown': 161, u'http': 534, u'independents': 567, u'applaud': 92, u'nationally': 719, u'submarines': 1061, u'running': 951, u'prophesied': 859, u'frequently': 444, u'nation': 718, u'expand': 398, u'costa': 256, u'theater': 1098, u'center': 189, u'com': 224, u'constitutional': 246, u'roughly': 945, u'fighting': 421, u'solve': 1028, u'sets': 999, u'position': 825, u'model': 696, u'soviet': 1033, u'bodies': 154, u'arming': 103, u'heavily': 510, u'money': 699, u'accurate': 48, u'hands': 499, u'underlying': 1138, u'kill': 607, u'kasich': 604, u'paul': 793, u'speed': 1039, u'death': 288, u'application': 93, u'thinking': 1106, u'demographic': 305, u'preachers': 831, u'day': 284, u'googling': 475, u'lets': 631, u'attractive': 114, u'citizen': 211, u'advanced': 58, u'boom': 156, u'kingdom': 609, u'increased': 562, u'myth': 715, u'government': 480, u'read': 886, u'increases': 563, u'inflation': 572, u'darn': 280, u'amp': 85, u'dare': 279, u'prominent': 856, u'incredibly': 565, u'necessary': 727, u'like': 639, u'lost': 657, u'collective': 222, u'preference': 835, u'benefit': 135, u'donations': 333, u'regulated': 905, u'voluntarily': 1182, u'works': 1229, u'amendment': 80, u'growth': 494, u'respect': 927, u'home': 525, u'gfe_rd': 466, u'thinks': 1107, u'happens': 501, u'scandals': 968, u'lead': 623, u'literally': 645, u'unmatched': 1149, u'conservative': 241, u'does': 328, u'exit': 397, u'deficit': 300, u'limitations': 641, u'2600': 23, u'scientific': 971, u'power': 830, u'seconds': 976, u'mitt': 694, u'strained': 1054, u'prohibited': 855, u'homophobe': 526, u'throw': 1108, u'actual': 53, u'getting': 465, u'universe': 1147, u'oe': 754, u'violence': 1180, u'discussed': 323, u'ideology': 541, u'union': 1144, u'boldly': 155, u'act': 50, u'organizers': 772, u'whites': 1212, u'political': 818, u'washington': 1202, u'billions': 146, u'square': 1043, u'parties': 788, u'nowadays': 743, u'significantly': 1007, u'1982': 14, u'1983': 15, u'1980': 12, u'1981': 13, u'spiral': 1041, u'noticed': 742, u'start': 1048, u'low': 660, u'lot': 658, u'touted': 1122, u'naturally': 721, u'function': 447, u'ago': 71, u'human': 537, u'complete': 232, u'funds': 454, u'sophisticated': 1029, u'plague': 810, u'gain': 457, u'trying': 1132, u'buying': 170, u'embargo': 364, u'monopoly': 700, u'wish': 1220, u'official': 759, u'signed': 1006, u'placed': 809, u'convince': 253, u'ruling': 948, u'problem': 849, u'beliefs': 132, u'expect': 400, u'rightly': 937, u'600': 39, u'timespan': 1115, u'certain': 192, u'romney': 943, u'sales': 955, u'general': 460, u'aq': 97, u'britain': 164, u'au': 115, u'education': 353, u'margins': 671, u'know': 611, u'49': 35, u'44': 34, u'percent': 801, u'valid': 1162, u'details': 312, u'really': 893, u'conclusion': 234, u'poor': 821, u'illegally': 543, u'repeat': 912, u'star': 1047, u'hey': 515, u'congress': 238, u'students': 1056, u'ultimately': 1136, u'chance': 193, u'weaponry': 1206, u'thumping': 1111, u'included': 557, u'fundamentally': 451, u'fiscal': 426, u'assets': 109, u'hiked': 518, u'atheist': 111, u'rule': 947, u'having': 506, u'hikes': 519, u'mass': 672, u'ideological': 540, u'uneducated': 1142, u'baked': 122, u'original': 773, u'simpson': 1010}\n"
     ]
    }
   ],
   "source": [
    "vectorizer.fit_transform(training_set)\n",
    "print vectorizer.vocabulary_"
   ]
  },
  {
   "cell_type": "code",
   "execution_count": 10,
   "metadata": {
    "collapsed": true
   },
   "outputs": [],
   "source": [
    "democrats_comments = pd.read_sql(\"SELECT author, body, subreddit, score FROM May2015 WHERE subreddit = 'democrats'\", sql_conn)"
   ]
  },
  {
   "cell_type": "code",
   "execution_count": 11,
   "metadata": {
    "collapsed": false
   },
   "outputs": [
    {
     "name": "stdout",
     "output_type": "stream",
     "text": [
      "<class 'pandas.core.frame.DataFrame'>\n",
      "Int64Index: 1437 entries, 0 to 1436\n",
      "Data columns (total 4 columns):\n",
      "author       1437 non-null object\n",
      "body         1437 non-null object\n",
      "subreddit    1437 non-null object\n",
      "score        1437 non-null int64\n",
      "dtypes: int64(1), object(3)\n",
      "memory usage: 56.1+ KB\n"
     ]
    }
   ],
   "source": [
    "democrats_comments.info()"
   ]
  },
  {
   "cell_type": "code",
   "execution_count": 12,
   "metadata": {
    "collapsed": true
   },
   "outputs": [],
   "source": [
    "# This is a big one\n",
    "politics_comments = pd.read_sql(\"SELECT author, body, subreddit, score FROM May2015 WHERE subreddit = 'politics'\", sql_conn)"
   ]
  },
  {
   "cell_type": "code",
   "execution_count": 46,
   "metadata": {
    "collapsed": false
   },
   "outputs": [
    {
     "name": "stdout",
     "output_type": "stream",
     "text": [
      "<class 'pandas.core.frame.DataFrame'>\n",
      "Int64Index: 244927 entries, 0 to 244926\n",
      "Data columns (total 4 columns):\n",
      "author       244927 non-null object\n",
      "body         244927 non-null object\n",
      "subreddit    244927 non-null object\n",
      "score        244927 non-null int64\n",
      "dtypes: int64(1), object(3)\n",
      "memory usage: 9.3+ MB\n"
     ]
    }
   ],
   "source": [
    "politics_comments.info()"
   ]
  },
  {
   "cell_type": "code",
   "execution_count": 14,
   "metadata": {
    "collapsed": false
   },
   "outputs": [
    {
     "data": {
      "text/html": [
       "<div style=\"max-height:1000px;max-width:1500px;overflow:auto;\">\n",
       "<table border=\"1\" class=\"dataframe\">\n",
       "  <thead>\n",
       "    <tr style=\"text-align: right;\">\n",
       "      <th></th>\n",
       "      <th>author</th>\n",
       "      <th>body</th>\n",
       "      <th>subreddit</th>\n",
       "      <th>score</th>\n",
       "    </tr>\n",
       "  </thead>\n",
       "  <tbody>\n",
       "    <tr>\n",
       "      <th>0</th>\n",
       "      <td>       Wicked_Truth</td>\n",
       "      <td> Are you really implying we return to those tim...</td>\n",
       "      <td> politics</td>\n",
       "      <td> 0</td>\n",
       "    </tr>\n",
       "    <tr>\n",
       "      <th>1</th>\n",
       "      <td> OceanGroovedropper</td>\n",
       "      <td> Seems morally questionable to me, but if that'...</td>\n",
       "      <td> politics</td>\n",
       "      <td>-1</td>\n",
       "    </tr>\n",
       "    <tr>\n",
       "      <th>2</th>\n",
       "      <td>         Drooperdoo</td>\n",
       "      <td> Ah, Ninjew, we feel the same.\\n\\nWait! Nin*jew...</td>\n",
       "      <td> politics</td>\n",
       "      <td> 1</td>\n",
       "    </tr>\n",
       "    <tr>\n",
       "      <th>3</th>\n",
       "      <td>         PabloNueve</td>\n",
       "      <td> I mean I suppose we'll find out. I just have n...</td>\n",
       "      <td> politics</td>\n",
       "      <td> 1</td>\n",
       "    </tr>\n",
       "    <tr>\n",
       "      <th>4</th>\n",
       "      <td>          whosename</td>\n",
       "      <td> Nor should you be able to.    \\nWould you like...</td>\n",
       "      <td> politics</td>\n",
       "      <td> 2</td>\n",
       "    </tr>\n",
       "  </tbody>\n",
       "</table>\n",
       "</div>"
      ],
      "text/plain": [
       "               author                                               body  \\\n",
       "0        Wicked_Truth  Are you really implying we return to those tim...   \n",
       "1  OceanGroovedropper  Seems morally questionable to me, but if that'...   \n",
       "2          Drooperdoo  Ah, Ninjew, we feel the same.\\n\\nWait! Nin*jew...   \n",
       "3          PabloNueve  I mean I suppose we'll find out. I just have n...   \n",
       "4           whosename  Nor should you be able to.    \\nWould you like...   \n",
       "\n",
       "  subreddit  score  \n",
       "0  politics      0  \n",
       "1  politics     -1  \n",
       "2  politics      1  \n",
       "3  politics      1  \n",
       "4  politics      2  "
      ]
     },
     "execution_count": 14,
     "metadata": {},
     "output_type": "execute_result"
    }
   ],
   "source": [
    "politics_comments.head()"
   ]
  },
  {
   "cell_type": "code",
   "execution_count": 58,
   "metadata": {
    "collapsed": false
   },
   "outputs": [],
   "source": [
    "freq_term_matrix = vectorizer.transform(np.array(politics_comments['body']))"
   ]
  },
  {
   "cell_type": "code",
   "execution_count": 59,
   "metadata": {
    "collapsed": false
   },
   "outputs": [],
   "source": [
    "from sklearn.feature_extraction.text import TfidfTransformer"
   ]
  },
  {
   "cell_type": "code",
   "execution_count": 60,
   "metadata": {
    "collapsed": false
   },
   "outputs": [
    {
     "data": {
      "text/plain": [
       "TfidfTransformer(norm='l2', smooth_idf=True, sublinear_tf=False, use_idf=True)"
      ]
     },
     "execution_count": 60,
     "metadata": {},
     "output_type": "execute_result"
    }
   ],
   "source": [
    "tfidf = TfidfTransformer(norm=\"l2\")\n",
    "tfidf.fit(freq_term_matrix)"
   ]
  },
  {
   "cell_type": "code",
   "execution_count": 61,
   "metadata": {
    "collapsed": false
   },
   "outputs": [],
   "source": [
    "tf_idf_matrix = tfidf.transform(freq_term_matrix)"
   ]
  },
  {
   "cell_type": "code",
   "execution_count": null,
   "metadata": {
    "collapsed": true
   },
   "outputs": [],
   "source": []
  }
 ],
 "metadata": {
  "kernelspec": {
   "display_name": "Python 2",
   "language": "python",
   "name": "python2"
  },
  "language_info": {
   "codemirror_mode": {
    "name": "ipython",
    "version": 2
   },
   "file_extension": ".py",
   "mimetype": "text/x-python",
   "name": "python",
   "nbconvert_exporter": "python",
   "pygments_lexer": "ipython2",
   "version": "2.7.10"
  }
 },
 "nbformat": 4,
 "nbformat_minor": 0
}
